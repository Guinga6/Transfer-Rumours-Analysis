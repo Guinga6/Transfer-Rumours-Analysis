{
 "cells": [
  {
   "cell_type": "code",
   "execution_count": 20,
   "id": "1cad0297",
   "metadata": {},
   "outputs": [],
   "source": [
    "import numpy as np\n",
    "import pandas as pd \n",
    "import os"
   ]
  },
  {
   "cell_type": "code",
   "execution_count": null,
   "id": "2dad6ea5",
   "metadata": {},
   "outputs": [
    {
     "data": {
      "text/html": [
       "<div>\n",
       "<style scoped>\n",
       "    .dataframe tbody tr th:only-of-type {\n",
       "        vertical-align: middle;\n",
       "    }\n",
       "\n",
       "    .dataframe tbody tr th {\n",
       "        vertical-align: top;\n",
       "    }\n",
       "\n",
       "    .dataframe thead th {\n",
       "        text-align: right;\n",
       "    }\n",
       "</style>\n",
       "<table border=\"1\" class=\"dataframe\">\n",
       "  <thead>\n",
       "    <tr style=\"text-align: right;\">\n",
       "      <th></th>\n",
       "      <th>date</th>\n",
       "      <th>filename</th>\n",
       "      <th>player_value</th>\n",
       "      <th>topic</th>\n",
       "      <th>player_key</th>\n",
       "      <th>cluster</th>\n",
       "      <th>player</th>\n",
       "      <th>texte</th>\n",
       "      <th>keywords</th>\n",
       "      <th>market_value</th>\n",
       "      <th>Current_team</th>\n",
       "    </tr>\n",
       "  </thead>\n",
       "  <tbody>\n",
       "    <tr>\n",
       "      <th>0</th>\n",
       "      <td>2024/09/17</td>\n",
       "      <td>kj8XZhBxvEg.json</td>\n",
       "      <td>Alvarez</td>\n",
       "      <td>Conor</td>\n",
       "      <td>Julián álvarez</td>\n",
       "      <td>0</td>\n",
       "      <td>Alvarez</td>\n",
       "      <td>Conor Conor Gallagher who already signed the c...</td>\n",
       "      <td>['Atlético Madrid Madrid']</td>\n",
       "      <td>90000000.0</td>\n",
       "      <td>Atlético de Madrid</td>\n",
       "    </tr>\n",
       "    <tr>\n",
       "      <th>1</th>\n",
       "      <td>2024/09/17</td>\n",
       "      <td>kj8XZhBxvEg.json</td>\n",
       "      <td>Alvarez</td>\n",
       "      <td>Madrid</td>\n",
       "      <td>Julián álvarez</td>\n",
       "      <td>1</td>\n",
       "      <td>Alvarez</td>\n",
       "      <td>Atlético Madrid Madrid Madrid and already sign...</td>\n",
       "      <td>['Atlético Madrid']</td>\n",
       "      <td>90000000.0</td>\n",
       "      <td>Atlético de Madrid</td>\n",
       "    </tr>\n",
       "    <tr>\n",
       "      <th>4</th>\n",
       "      <td>2024/09/15</td>\n",
       "      <td>bLx0MKdTMiA.json</td>\n",
       "      <td>Alvarez</td>\n",
       "      <td>City</td>\n",
       "      <td>Julián álvarez</td>\n",
       "      <td>1</td>\n",
       "      <td>Alvarez</td>\n",
       "      <td>For example, just to give you some context, Ba...</td>\n",
       "      <td>['Chelsea', 'Bayer Leverkusen', 'Atlético Madr...</td>\n",
       "      <td>90000000.0</td>\n",
       "      <td>Atlético de Madrid</td>\n",
       "    </tr>\n",
       "    <tr>\n",
       "      <th>5</th>\n",
       "      <td>2024/08/05</td>\n",
       "      <td>n6QfN5Eh19A.json</td>\n",
       "      <td>Alvarez</td>\n",
       "      <td>Julian</td>\n",
       "      <td>Julián álvarez</td>\n",
       "      <td>1</td>\n",
       "      <td>Alvarez</td>\n",
       "      <td>**Alvarez** is now in Europe, to advance on co...</td>\n",
       "      <td>['Manchester City']</td>\n",
       "      <td>90000000.0</td>\n",
       "      <td>Atlético de Madrid</td>\n",
       "    </tr>\n",
       "    <tr>\n",
       "      <th>6</th>\n",
       "      <td>2024/09/17</td>\n",
       "      <td>kj8XZhBxvEg.json</td>\n",
       "      <td>Alvarez</td>\n",
       "      <td>Madrid</td>\n",
       "      <td>Julián álvarez</td>\n",
       "      <td>2</td>\n",
       "      <td>Alvarez</td>\n",
       "      <td>Conor Conor Gallagher deal will be safe and th...</td>\n",
       "      <td>['Atlético Madrid Madrid', 'Chelsea']</td>\n",
       "      <td>90000000.0</td>\n",
       "      <td>Atlético de Madrid</td>\n",
       "    </tr>\n",
       "  </tbody>\n",
       "</table>\n",
       "</div>"
      ],
      "text/plain": [
       "         date          filename player_value   topic      player_key  cluster  \\\n",
       "0  2024/09/17  kj8XZhBxvEg.json      Alvarez   Conor  Julián álvarez        0   \n",
       "1  2024/09/17  kj8XZhBxvEg.json      Alvarez  Madrid  Julián álvarez        1   \n",
       "4  2024/09/15  bLx0MKdTMiA.json      Alvarez    City  Julián álvarez        1   \n",
       "5  2024/08/05  n6QfN5Eh19A.json      Alvarez  Julian  Julián álvarez        1   \n",
       "6  2024/09/17  kj8XZhBxvEg.json      Alvarez  Madrid  Julián álvarez        2   \n",
       "\n",
       "    player                                              texte  \\\n",
       "0  Alvarez  Conor Conor Gallagher who already signed the c...   \n",
       "1  Alvarez  Atlético Madrid Madrid Madrid and already sign...   \n",
       "4  Alvarez  For example, just to give you some context, Ba...   \n",
       "5  Alvarez  **Alvarez** is now in Europe, to advance on co...   \n",
       "6  Alvarez  Conor Conor Gallagher deal will be safe and th...   \n",
       "\n",
       "                                            keywords  market_value  \\\n",
       "0                         ['Atlético Madrid Madrid']    90000000.0   \n",
       "1                                ['Atlético Madrid']    90000000.0   \n",
       "4  ['Chelsea', 'Bayer Leverkusen', 'Atlético Madr...    90000000.0   \n",
       "5                                ['Manchester City']    90000000.0   \n",
       "6              ['Atlético Madrid Madrid', 'Chelsea']    90000000.0   \n",
       "\n",
       "         Current_team  \n",
       "0  Atlético de Madrid  \n",
       "1  Atlético de Madrid  \n",
       "4  Atlético de Madrid  \n",
       "5  Atlético de Madrid  \n",
       "6  Atlético de Madrid  "
      ]
     },
     "execution_count": 36,
     "metadata": {},
     "output_type": "execute_result"
    }
   ],
   "source": [
    "df = pd.read_csv(r'C:\\Users\\warag\\OneDrive\\Bureau\\Transfers_Rumors\\data\\rumors_fabrizio_romano.csv')\n",
    "df.head()"
   ]
  },
  {
   "cell_type": "code",
   "execution_count": 22,
   "id": "623f6e89",
   "metadata": {},
   "outputs": [
    {
     "name": "stderr",
     "output_type": "stream",
     "text": [
      "c:\\Users\\warag\\AppData\\Local\\Programs\\Python\\Python311\\Lib\\site-packages\\thinc\\shims\\pytorch.py:261: FutureWarning: You are using `torch.load` with `weights_only=False` (the current default value), which uses the default pickle module implicitly. It is possible to construct malicious pickle data which will execute arbitrary code during unpickling (See https://github.com/pytorch/pytorch/blob/main/SECURITY.md#untrusted-models for more details). In a future release, the default value for `weights_only` will be flipped to `True`. This limits the functions that could be executed during unpickling. Arbitrary objects will no longer be allowed to be loaded via this mode unless they are explicitly allowlisted by the user via `torch.serialization.add_safe_globals`. We recommend you start setting `weights_only=True` for any use case where you don't have full control of the loaded file. Please open an issue on GitHub for any issues related to this experimental feature.\n",
      "  model.load_state_dict(torch.load(filelike, map_location=device))\n"
     ]
    }
   ],
   "source": [
    "import spacy\n",
    "\n",
    "nlp = spacy.load(\"en_core_web_trf\")\n",
    "\n",
    "def extract_orgs(text):\n",
    "    if not isinstance(text, str) or text.strip() == \"\":\n",
    "        return []\n",
    "    doc = nlp(text)\n",
    "    orgs = [ent.text for ent in doc.ents if ent.label_ == \"ORG\"]\n",
    "    return list(set(orgs))  # unique org names\n",
    "\n",
    "df['keywords'] = df['text'].apply(extract_orgs)"
   ]
  },
  {
   "cell_type": "code",
   "execution_count": 23,
   "id": "c7b32a48",
   "metadata": {},
   "outputs": [],
   "source": [
    "import numpy as np\n",
    "\n",
    "# Replace string \"nan\" with actual np.nan\n",
    "df['filename'] = df['filename'].replace('nan', np.nan)\n",
    "\n",
    "# Now drop rows with NaN in that column\n",
    "df = df.dropna(subset=['filename'])"
   ]
  },
  {
   "cell_type": "code",
   "execution_count": 24,
   "id": "e7fd4fe3",
   "metadata": {},
   "outputs": [],
   "source": [
    "import json\n",
    "\n",
    "json_comment_map = {}\n",
    "\n",
    "# Replace this path with the actual folder path of your JSON files\n",
    "json_folder = r'C:\\Users\\warag\\OneDrive\\Bureau\\Transfers_Rumors\\video_data\\result'\n",
    "\n",
    "for filename in df['filename'].unique():\n",
    "    path = os.path.join(json_folder,filename)\n",
    "    try:\n",
    "        with open(path, 'r', encoding='utf-8') as f:\n",
    "            comments = json.load(f)  # assuming JSON is a list of comments\n",
    "            json_comment_map[filename] = comments['comments']\n",
    "    except Exception as e:\n",
    "        print(f\"Error loading {filename}: {e}\")\n",
    "        json_comment_map[filename] = []\n",
    "\n"
   ]
  },
  {
   "cell_type": "code",
   "execution_count": null,
   "id": "ca419b95",
   "metadata": {},
   "outputs": [],
   "source": [
    "from vaderSentiment.vaderSentiment import SentimentIntensityAnalyzer\n",
    "\n",
    "analyzer = SentimentIntensityAnalyzer()\n",
    "\n",
    "def build_filter_keywords(row):\n",
    "    keywords = set()\n",
    "    player_name = row['player'].lower()\n",
    "    keywords.add(player_name)\n",
    "    keywords.update(player_name.split())\n",
    "    if pd.notna(row['Current_team']) and row['Current_team'].strip():\n",
    "        keywords.add(row['Current_team'].lower())\n",
    "    if isinstance(row['keywords'], list):\n",
    "        keywords.update(k.lower() for k in row['keywords'] if isinstance(k, str))\n",
    "    return keywords\n",
    "\n",
    "def compute_player_sentiment(row):\n",
    "    comments = json_comment_map.get(row['filename'], [])\n",
    "    keywords = build_filter_keywords(row)\n",
    "    filtered = [c for c in comments if any(kw in c.lower() for kw in keywords)]\n",
    "    if not filtered:\n",
    "        return 0.0\n",
    "    combined_text = \" \".join(filtered)\n",
    "    score = analyzer.polarity_scores(combined_text)\n",
    "    return score['compound']\n",
    "\n",
    "df['sentiment'] = df.apply(compute_player_sentiment, axis=1)"
   ]
  },
  {
   "cell_type": "code",
   "execution_count": 26,
   "id": "85b1100f",
   "metadata": {},
   "outputs": [
    {
     "data": {
      "image/png": "[encoded data removed]",
      "text/plain": [
       "<Figure size 800x500 with 1 Axes>"
      ]
     },
     "metadata": {},
     "output_type": "display_data"
    }
   ],
   "source": [
    "import matplotlib.pyplot as plt\n",
    "import seaborn as sns\n",
    "\n",
    "plt.figure(figsize=(8,5))\n",
    "sns.histplot(df['sentiment'], bins=30, kde=True, color='skyblue')\n",
    "\n",
    "plt.title('Sentiment Score Distribution')\n",
    "plt.xlabel('Sentiment Score (-1 to 1)')\n",
    "plt.ylabel('Number of Players')\n",
    "plt.grid(True)\n",
    "plt.show()"
   ]
  },
  {
   "cell_type": "code",
   "execution_count": 27,
   "id": "97ff8da1",
   "metadata": {},
   "outputs": [
    {
     "data": {
      "image/png": "[encoded data removed]",
      "text/plain": [
       "<Figure size 600x400 with 1 Axes>"
      ]
     },
     "metadata": {},
     "output_type": "display_data"
    }
   ],
   "source": [
    "plt.figure(figsize=(6,4))\n",
    "sns.boxplot(x=df['sentiment'])\n",
    "plt.title('Sentiment Score Spread')\n",
    "plt.show()"
   ]
  },
  {
   "cell_type": "code",
   "execution_count": 28,
   "id": "9d8b3397",
   "metadata": {},
   "outputs": [],
   "source": [
    "df.to_csv(r'C:\\Users\\warag\\OneDrive\\Bureau\\Transfers_Rumors\\data\\rumors_fabrizio_romano.csv', index=False)"
   ]
  }
 ],
 "metadata": {
  "kernelspec": {
   "display_name": "Python 3",
   "language": "python",
   "name": "python3"
  },
  "language_info": {
   "codemirror_mode": {
    "name": "ipython",
    "version": 3
   },
   "file_extension": ".py",
   "mimetype": "text/x-python",
   "name": "python",
   "nbconvert_exporter": "python",
   "pygments_lexer": "ipython3",
   "version": "3.11.6"
  }
 },
 "nbformat": 4,
 "nbformat_minor": 5
}
